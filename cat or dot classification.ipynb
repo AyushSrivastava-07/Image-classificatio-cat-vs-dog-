{
 "cells": [
  {
   "cell_type": "markdown",
   "metadata": {
    "id": "3DR-eO17geWu"
   },
   "source": [
    "# Convolutional Neural Network"
   ]
  },
  {
   "cell_type": "markdown",
   "metadata": {
    "id": "EMefrVPCg-60"
   },
   "source": [
    "### Importing the libraries"
   ]
  },
  {
   "cell_type": "code",
   "execution_count": 84,
   "metadata": {
    "id": "NKdgV2wXY4cu"
   },
   "outputs": [],
   "source": [
    "import tensorflow as tf\n",
    "from keras.preprocessing.image import ImageDataGenerator"
   ]
  },
  {
   "cell_type": "code",
   "execution_count": 85,
   "metadata": {
    "colab": {
     "base_uri": "https://localhost:8080/",
     "height": 35
    },
    "id": "9_n7JbI6Zu8J",
    "outputId": "028edf31-c73f-40a0-db88-043500a54a90"
   },
   "outputs": [
    {
     "data": {
      "text/plain": [
       "'2.5.0'"
      ]
     },
     "execution_count": 85,
     "metadata": {},
     "output_type": "execute_result"
    }
   ],
   "source": [
    "tf.__version__"
   ]
  },
  {
   "cell_type": "markdown",
   "metadata": {
    "id": "oxQxCBWyoGPE"
   },
   "source": [
    "## Part 1 - Data Preprocessing"
   ]
  },
  {
   "cell_type": "markdown",
   "metadata": {
    "id": "MvE-heJNo3GG"
   },
   "source": [
    "### Preprocessing the Training set"
   ]
  },
  {
   "cell_type": "code",
   "execution_count": 86,
   "metadata": {
    "id": "YBvtrAtq1IxR"
   },
   "outputs": [
    {
     "name": "stdout",
     "output_type": "stream",
     "text": [
      "Found 8000 images belonging to 2 classes.\n"
     ]
    }
   ],
   "source": [
    "train_datagen  = ImageDataGenerator(\n",
    "    rescale = 1./255,\n",
    "    shear_range = 0.2,\n",
    "    zoom_range = 0.2,\n",
    "    horizontal_flip = True)\n",
    "training_set = train_datagen.flow_from_directory(\n",
    "    'dataset/training_set',\n",
    "    target_size = (64, 64),\n",
    "     batch_size = 32,\n",
    "     class_mode = 'binary')\n",
    "\n"
   ]
  },
  {
   "cell_type": "markdown",
   "metadata": {
    "id": "mrCMmGw9pHys"
   },
   "source": [
    "### Preprocessing the Test set"
   ]
  },
  {
   "cell_type": "code",
   "execution_count": 87,
   "metadata": {
    "id": "b3iPJ4I27gDJ"
   },
   "outputs": [
    {
     "name": "stdout",
     "output_type": "stream",
     "text": [
      "Found 2000 images belonging to 2 classes.\n"
     ]
    }
   ],
   "source": [
    "test_datagen = ImageDataGenerator(rescale=1./255)\n",
    "test_set = test_datagen.flow_from_directory(\n",
    "    'dataset/test_set',\n",
    "    target_size = (64,64),\n",
    "    batch_size = 32,\n",
    "    class_mode = 'binary')\n"
   ]
  },
  {
   "cell_type": "markdown",
   "metadata": {
    "id": "af8O4l90gk7B"
   },
   "source": [
    "## Part 2 - Building the CNN"
   ]
  },
  {
   "cell_type": "markdown",
   "metadata": {
    "id": "ces1gXY2lmoX"
   },
   "source": [
    "### Initialising the CNN"
   ]
  },
  {
   "cell_type": "code",
   "execution_count": 88,
   "metadata": {
    "id": "KfweFw0m_ztb"
   },
   "outputs": [],
   "source": [
    "cnn = tf.keras.models.Sequential()"
   ]
  },
  {
   "cell_type": "markdown",
   "metadata": {
    "id": "u5YJj_XMl5LF"
   },
   "source": [
    "### Step 1 - Convolution"
   ]
  },
  {
   "cell_type": "code",
   "execution_count": 89,
   "metadata": {
    "id": "rFIiKQqd__QY"
   },
   "outputs": [],
   "source": [
    "cnn.add(tf.keras.layers.Conv2D(filters=32, kernel_size=3, activation=tf.keras.layers.LeakyReLU(alpha=0.3), input_shape=[64, 64, 3]))"
   ]
  },
  {
   "cell_type": "markdown",
   "metadata": {
    "id": "tf87FpvxmNOJ"
   },
   "source": [
    "### Step 2 - Pooling"
   ]
  },
  {
   "cell_type": "code",
   "execution_count": 90,
   "metadata": {
    "id": "keZ3jhVEBxi9"
   },
   "outputs": [],
   "source": [
    "cnn.add(tf.keras.layers.MaxPool2D(pool_size=2, strides=2))"
   ]
  },
  {
   "cell_type": "markdown",
   "metadata": {
    "id": "xaTOgD8rm4mU"
   },
   "source": [
    "### Adding a second convolutional layer"
   ]
  },
  {
   "cell_type": "code",
   "execution_count": 91,
   "metadata": {
    "id": "-zSB2ZkzOxeP"
   },
   "outputs": [],
   "source": [
    "cnn.add(tf.keras.layers.Conv2D(filters=32, kernel_size=3, activation=tf.keras.layers.LeakyReLU(alpha=0.3)))"
   ]
  },
  {
   "cell_type": "code",
   "execution_count": 92,
   "metadata": {
    "id": "d6F2SxvKO3Aa"
   },
   "outputs": [],
   "source": [
    "cnn.add(tf.keras.layers.MaxPool2D(pool_size=2, strides=2))"
   ]
  },
  {
   "cell_type": "code",
   "execution_count": 93,
   "metadata": {},
   "outputs": [],
   "source": [
    "cnn.add(tf.keras.layers.Conv2D(filters=32, kernel_size=3, activation=tf.keras.layers.LeakyReLU(alpha=0.3)))"
   ]
  },
  {
   "cell_type": "code",
   "execution_count": 94,
   "metadata": {},
   "outputs": [],
   "source": [
    "cnn.add(tf.keras.layers.MaxPool2D(pool_size=2, strides=2))"
   ]
  },
  {
   "cell_type": "code",
   "execution_count": 63,
   "metadata": {
    "id": "U_51mTMDN32_"
   },
   "outputs": [],
   "source": [
    "#cnn.add(tf.keras.layers.Conv2D(filters=32, kernel_size=3, activation=tf.keras.layers.LeakyReLU(alpha=0.3)))"
   ]
  },
  {
   "cell_type": "code",
   "execution_count": 64,
   "metadata": {
    "id": "q-lrKgkEN3h-"
   },
   "outputs": [],
   "source": [
    "#cnn.add(tf.keras.layers.MaxPool2D(pool_size=2, strides=2))"
   ]
  },
  {
   "cell_type": "markdown",
   "metadata": {
    "id": "tmiEuvTunKfk"
   },
   "source": [
    "### Step 3 - Flattening"
   ]
  },
  {
   "cell_type": "code",
   "execution_count": 95,
   "metadata": {
    "id": "RMVrdunSO70w"
   },
   "outputs": [],
   "source": [
    "cnn.add(tf.keras.layers.Flatten())"
   ]
  },
  {
   "cell_type": "markdown",
   "metadata": {
    "id": "dAoSECOm203v"
   },
   "source": [
    "### Step 4 - Full Connection"
   ]
  },
  {
   "cell_type": "code",
   "execution_count": 96,
   "metadata": {
    "id": "dALu_hivPBEi"
   },
   "outputs": [],
   "source": [
    "cnn.add(tf.keras.layers.Dense(units=128, activation='relu'))"
   ]
  },
  {
   "cell_type": "markdown",
   "metadata": {
    "id": "yTldFvbX28Na"
   },
   "source": [
    "### Step 5 - Output Layer"
   ]
  },
  {
   "cell_type": "code",
   "execution_count": 97,
   "metadata": {
    "id": "ZXlSq2kGPLTN"
   },
   "outputs": [],
   "source": [
    "cnn.add(tf.keras.layers.Dense(units=1, activation = 'sigmoid'))"
   ]
  },
  {
   "cell_type": "markdown",
   "metadata": {
    "id": "D6XkI90snSDl"
   },
   "source": [
    "## Part 3 - Training the CNN"
   ]
  },
  {
   "cell_type": "markdown",
   "metadata": {
    "id": "vfrFQACEnc6i"
   },
   "source": [
    "### Compiling the CNN"
   ]
  },
  {
   "cell_type": "code",
   "execution_count": 98,
   "metadata": {
    "id": "P52cotueSYX5"
   },
   "outputs": [],
   "source": [
    "cnn.compile(optimizer='adam', loss='binary_crossentropy', metrics=['accuracy'])"
   ]
  },
  {
   "cell_type": "markdown",
   "metadata": {
    "id": "ehS-v3MIpX2h"
   },
   "source": [
    "### Training the CNN on the Training set and evaluating it on the Test set"
   ]
  },
  {
   "cell_type": "code",
   "execution_count": 99,
   "metadata": {
    "id": "c-Lp-9KUSlyi"
   },
   "outputs": [
    {
     "name": "stdout",
     "output_type": "stream",
     "text": [
      "Epoch 1/25\n",
      "250/250 [==============================] - 297s 1s/step - loss: 0.6719 - accuracy: 0.5798 - val_loss: 0.5995 - val_accuracy: 0.6955\n",
      "Epoch 2/25\n",
      "250/250 [==============================] - 54s 217ms/step - loss: 0.5896 - accuracy: 0.6810 - val_loss: 0.5435 - val_accuracy: 0.7270\n",
      "Epoch 3/25\n",
      "250/250 [==============================] - 54s 215ms/step - loss: 0.5293 - accuracy: 0.7336 - val_loss: 0.5037 - val_accuracy: 0.7490\n",
      "Epoch 4/25\n",
      "250/250 [==============================] - 66s 264ms/step - loss: 0.5041 - accuracy: 0.7511 - val_loss: 0.4843 - val_accuracy: 0.7705\n",
      "Epoch 5/25\n",
      "250/250 [==============================] - 56s 225ms/step - loss: 0.4815 - accuracy: 0.7720 - val_loss: 0.4863 - val_accuracy: 0.7820\n",
      "Epoch 6/25\n",
      "250/250 [==============================] - 55s 221ms/step - loss: 0.4628 - accuracy: 0.7766 - val_loss: 0.4723 - val_accuracy: 0.7750\n",
      "Epoch 7/25\n",
      "250/250 [==============================] - 54s 218ms/step - loss: 0.4358 - accuracy: 0.7980 - val_loss: 0.4692 - val_accuracy: 0.7875\n",
      "Epoch 8/25\n",
      "250/250 [==============================] - 54s 217ms/step - loss: 0.4211 - accuracy: 0.8035 - val_loss: 0.4635 - val_accuracy: 0.7955\n",
      "Epoch 9/25\n",
      "250/250 [==============================] - 55s 221ms/step - loss: 0.4030 - accuracy: 0.8124 - val_loss: 0.4324 - val_accuracy: 0.7955\n",
      "Epoch 10/25\n",
      "250/250 [==============================] - 54s 217ms/step - loss: 0.3809 - accuracy: 0.8303 - val_loss: 0.4818 - val_accuracy: 0.7845\n",
      "Epoch 11/25\n",
      "250/250 [==============================] - 54s 216ms/step - loss: 0.3721 - accuracy: 0.8336 - val_loss: 0.4306 - val_accuracy: 0.8185\n",
      "Epoch 12/25\n",
      "250/250 [==============================] - 54s 217ms/step - loss: 0.3566 - accuracy: 0.8413 - val_loss: 0.4202 - val_accuracy: 0.8140\n",
      "Epoch 13/25\n",
      "250/250 [==============================] - 54s 215ms/step - loss: 0.3369 - accuracy: 0.8494 - val_loss: 0.4064 - val_accuracy: 0.8150\n",
      "Epoch 14/25\n",
      "250/250 [==============================] - 54s 217ms/step - loss: 0.3233 - accuracy: 0.8589 - val_loss: 0.4768 - val_accuracy: 0.7890\n",
      "Epoch 15/25\n",
      "250/250 [==============================] - 55s 219ms/step - loss: 0.3117 - accuracy: 0.8624 - val_loss: 0.4300 - val_accuracy: 0.8190\n",
      "Epoch 16/25\n",
      "250/250 [==============================] - 54s 217ms/step - loss: 0.2945 - accuracy: 0.8759 - val_loss: 0.4297 - val_accuracy: 0.8270\n",
      "Epoch 17/25\n",
      "250/250 [==============================] - 55s 221ms/step - loss: 0.2749 - accuracy: 0.8842 - val_loss: 0.3857 - val_accuracy: 0.8325\n",
      "Epoch 18/25\n",
      "250/250 [==============================] - 55s 221ms/step - loss: 0.2625 - accuracy: 0.8841 - val_loss: 0.4155 - val_accuracy: 0.8305\n",
      "Epoch 19/25\n",
      "250/250 [==============================] - 56s 222ms/step - loss: 0.2518 - accuracy: 0.8972 - val_loss: 0.4836 - val_accuracy: 0.8070\n",
      "Epoch 20/25\n",
      "250/250 [==============================] - 55s 220ms/step - loss: 0.2438 - accuracy: 0.9005 - val_loss: 0.4431 - val_accuracy: 0.8200\n",
      "Epoch 21/25\n",
      "250/250 [==============================] - 55s 218ms/step - loss: 0.2297 - accuracy: 0.9022 - val_loss: 0.4359 - val_accuracy: 0.8210\n",
      "Epoch 22/25\n",
      "250/250 [==============================] - 54s 216ms/step - loss: 0.2120 - accuracy: 0.9156 - val_loss: 0.4304 - val_accuracy: 0.8185\n",
      "Epoch 23/25\n",
      "250/250 [==============================] - 54s 217ms/step - loss: 0.1960 - accuracy: 0.9185 - val_loss: 0.4803 - val_accuracy: 0.8145\n",
      "Epoch 24/25\n",
      "250/250 [==============================] - 54s 217ms/step - loss: 0.1844 - accuracy: 0.9254 - val_loss: 0.4980 - val_accuracy: 0.8155\n",
      "Epoch 25/25\n",
      "250/250 [==============================] - 54s 217ms/step - loss: 0.1821 - accuracy: 0.9279 - val_loss: 0.4862 - val_accuracy: 0.8215\n"
     ]
    },
    {
     "data": {
      "text/plain": [
       "<tensorflow.python.keras.callbacks.History at 0x16e2013bd90>"
      ]
     },
     "execution_count": 99,
     "metadata": {},
     "output_type": "execute_result"
    }
   ],
   "source": [
    "cnn.fit(x=training_set, validation_data=test_set, epochs=25)"
   ]
  },
  {
   "cell_type": "markdown",
   "metadata": {
    "id": "U3PZasO0006Z"
   },
   "source": [
    "## Part 4 - Making a single prediction"
   ]
  },
  {
   "cell_type": "code",
   "execution_count": 102,
   "metadata": {
    "id": "yCa0roQ5Ta4f"
   },
   "outputs": [],
   "source": [
    "import numpy as np\n",
    "from keras.preprocessing import image\n",
    "test_image = image.load_img('dataset/single_prediction/cat_or_dog_1.jpg', target_size = (64,64))\n",
    "test_image = image.img_to_array(test_image)\n",
    "test_image = np.expand_dims(test_image, axis=0)\n",
    "result = cnn.predict(test_image)\n",
    "training_set.class_indices\n",
    "if result[0][0] == 1:\n",
    "  prediction = 'dog'\n",
    "else:\n",
    "  prediction = 'cat'"
   ]
  },
  {
   "cell_type": "code",
   "execution_count": 103,
   "metadata": {
    "colab": {
     "base_uri": "https://localhost:8080/"
    },
    "id": "B9-cPj7WZo6e",
    "outputId": "c22f404f-ff24-43d5-d423-743026526165"
   },
   "outputs": [
    {
     "name": "stdout",
     "output_type": "stream",
     "text": [
      "dog\n"
     ]
    }
   ],
   "source": [
    "print(prediction)"
   ]
  },
  {
   "cell_type": "code",
   "execution_count": null,
   "metadata": {},
   "outputs": [],
   "source": []
  }
 ],
 "metadata": {
  "colab": {
   "collapsed_sections": [],
   "name": "Copy of convolutional_neural_network.ipynb",
   "provenance": [],
   "toc_visible": true
  },
  "interpreter": {
   "hash": "64d2aa67032314140309f41f4d33ef1e31d976f68284126ec7fc0407d51c45ef"
  },
  "kernelspec": {
   "display_name": "Python 3",
   "language": "python",
   "name": "python3"
  },
  "language_info": {
   "codemirror_mode": {
    "name": "ipython",
    "version": 3
   },
   "file_extension": ".py",
   "mimetype": "text/x-python",
   "name": "python",
   "nbconvert_exporter": "python",
   "pygments_lexer": "ipython3",
   "version": "3.8.8"
  }
 },
 "nbformat": 4,
 "nbformat_minor": 1
}
